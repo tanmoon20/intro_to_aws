{
  "cells": [
    {
      "cell_type": "code",
      "execution_count": 1,
      "id": "4a58ae14",
      "metadata": {
        "id": "4a58ae14"
      },
      "outputs": [],
      "source": [
        "# Import libraries\n",
        "import csv\n",
        "import random\n",
        "import pandas as pd\n",
        "from datetime import datetime, timedelta"
      ]
    },
    {
      "cell_type": "code",
      "source": [
        "class MyClass:\n",
        "    def __init__(self):\n",
        "        self.file_name = None\n",
        "\n",
        "    def generate_random_timestamp(self, start_year, end_year):\n",
        "        start_date = datetime(start_year, 1, 1)\n",
        "        end_date = datetime(end_year, 12, 31)\n",
        "        random_days = random.randint(0, (end_date - start_date).days)\n",
        "        random_date = start_date + timedelta(days=random_days)\n",
        "        return random_date\n",
        "\n",
        "    # Generate dummy data\n",
        "    def gen_dummy_data(self, file_name1, file_name2):\n",
        "        try:\n",
        "            self.file_name = file_name1\n",
        "\n",
        "            with open(file_name1, 'w') as file1, open(file_name2, 'w')as file2:\n",
        "                file1.write(\"item_id,timestamp,demand,location\\n\")\n",
        "                file2.write(\"item_id,timestamp,product_price,product_stock_level\\n\")\n",
        "\n",
        "                data = []\n",
        "                states = ['Kedah', 'Penang', 'Perak', 'Kuala Lumpur', 'Selangor', 'Melaka', 'Johor', 'Pahang', 'Sabah', 'Sarawak']\n",
        "                for i in range(10):\n",
        "                    for j in range(100):\n",
        "                        product_id = f\"PROD{i+1}\"\n",
        "                        timestamp = self.generate_random_timestamp(2020, 2023)\n",
        "                        demand = random.randint(0, 200)\n",
        "                        location = random.choice(states)\n",
        "                        product_price = round(random.randint(5, 300) / 10, 2)\n",
        "                        product_stock = random.randint(0, 300)\n",
        "                        data.append((product_id, timestamp, demand, location, product_price, product_stock))\n",
        "\n",
        "                data.sort(key=lambda x: x[1])  # sorts in place\n",
        "\n",
        "                for entry in data:\n",
        "                    formatted_date = entry[1].strftime('%Y-%m-%d')\n",
        "                    formatted_price = format(entry[4], \".2f\")\n",
        "                    formatted_price = float(formatted_price)\n",
        "                    file1.write(f\"{entry[0]},{formatted_date},{entry[2]},{entry[3]}\\n\")\n",
        "                    file2.write(f\"{entry[0]},{formatted_date},{formatted_price},{entry[5]}\\n\")\n",
        "            print(f\"Data saved to {file_name1} and {file_name2}.\")\n",
        "        except ValueError as e:\n",
        "            print(\"Failed to save data.\", str(e))\n",
        "            gen_dummy_data()\n",
        "\n",
        "\n",
        "\n",
        "my_object = MyClass()\n",
        "\n",
        "my_object.gen_dummy_data(\"inventory_data_target_time_series.csv\",\"inventory_data_related_time_series.csv\")"
      ],
      "metadata": {
        "colab": {
          "base_uri": "https://localhost:8080/"
        },
        "id": "82Vjd9-L8zct",
        "outputId": "5221a68e-6d09-440b-8654-0d8306d1dfa9"
      },
      "id": "82Vjd9-L8zct",
      "execution_count": 2,
      "outputs": [
        {
          "output_type": "stream",
          "name": "stdout",
          "text": [
            "Data saved to inventory_data_target_time_series.csv and inventory_data_related_time_series.csv.\n"
          ]
        }
      ]
    },
    {
      "cell_type": "code",
      "source": [
        "# class MyClass:\n",
        "#     def __init__(self):\n",
        "#         self.file_name = None\n",
        "\n",
        "#     def generate_random_timestamp(self, start_year, end_year):\n",
        "#         start_date = datetime(start_year, 1, 1)\n",
        "#         end_date = datetime(end_year, 12, 31)\n",
        "#         random_days = random.randint(0, (end_date - start_date).days)\n",
        "#         random_date = start_date + timedelta(days=random_days)\n",
        "#         return random_date\n",
        "\n",
        "#     # Generate dummy data\n",
        "#     def gen_dummy_data(self, file_name1, file_name2):\n",
        "#         try:\n",
        "#             self.file_name = file_name\n",
        "\n",
        "#             with open(file_name, 'w') as file:\n",
        "#                 file.write(\"item_id,timestamp,product_price,product_stock_level\\n\")\n",
        "\n",
        "#                 data = []\n",
        "#                 for i in range(10):\n",
        "#                     for j in range(1000):\n",
        "#                         product_id = f\"PROD{i+1}\"\n",
        "#                         timestamp = self.generate_random_timestamp(2010, 2023)\n",
        "#                         product_price = round(random.randint(5, 1000) / 10, 2)\n",
        "#                         product_stock = random.randint(0, 100)\n",
        "#                         data.append((product_id, timestamp, product_price, product_stock))\n",
        "\n",
        "#                 #sort datetime\n",
        "#                 # df = pd.DataFrame(data, columns =['product_id', 'timestamp', 'product_price','product_stock'])\n",
        "#                 # df['timestamp'] = df['timestamp'].sort_values(ascending=True).values\n",
        "#                 # data = list(df.itertuples(index=False, name=None))\n",
        "\n",
        "#                 data.sort(key=lambda x: x[1])  # sorts in place\n",
        "\n",
        "#                 for entry in data:\n",
        "#                     formatted_date = entry[1].strftime('%Y-%m-%d')\n",
        "#                     formatted_price = format(entry[2], \".2f\")\n",
        "#                     formatted_price = float(formatted_price)\n",
        "#                     file.write(f\"{entry[0]},{formatted_date},{formatted_price},{entry[3]}\\n\")\n",
        "#             print(f\"Data saved to {file_name}.\")\n",
        "#         except ValueError as e:\n",
        "#             print(\"Failed to save data.\", str(e))\n",
        "#             gen_dummy_data()\n",
        "\n",
        "\n",
        "\n",
        "# my_object = MyClass()\n",
        "\n",
        "# my_object.gen_dummy_data(\"retail_store_inventory_data.csv\")"
      ],
      "metadata": {
        "id": "sfegJtmr4Cv1"
      },
      "id": "sfegJtmr4Cv1",
      "execution_count": null,
      "outputs": []
    }
  ],
  "metadata": {
    "colab": {
      "provenance": []
    },
    "kernelspec": {
      "display_name": "Python 3",
      "name": "python3"
    },
    "language_info": {
      "codemirror_mode": {
        "name": "ipython",
        "version": 3
      },
      "file_extension": ".py",
      "mimetype": "text/x-python",
      "name": "python",
      "nbconvert_exporter": "python",
      "pygments_lexer": "ipython3",
      "version": "3.9.12"
    }
  },
  "nbformat": 4,
  "nbformat_minor": 5
}